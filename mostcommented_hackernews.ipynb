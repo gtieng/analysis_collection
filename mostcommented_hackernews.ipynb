{
 "cells": [
  {
   "cell_type": "markdown",
   "metadata": {
    "collapsed": true
   },
   "source": [
    "# Engagement Analysis of Hacker News User Content\n",
    "\n",
    "**by Gerard Tieng**\n",
    "\n",
    "Today, we will be analyzing a [data set](https://www.kaggle.com/hacker-news/hacker-news-posts) of user submissions from popular technology site Hacker News. \n",
    "\n",
    "Our goal in this project is to determine what types of content gains the most comments from other users as well as to identify the best times for posts to gain the most comments.\n",
    "\n",
    "The following Python skills will be demonstrated:\n",
    "\n",
    "- String manipulation for data cleansing\n",
    "- Datetime formatting with the datetime library\n",
    "- String formatting for easier readability"
   ]
  },
  {
   "cell_type": "markdown",
   "metadata": {},
   "source": [
    "## Importing the Data\n",
    "\n",
    "The first thing we'll do is import the data from the hacker_news.csv file using the reader function from the csv library, and then transforming the object to a list. We'll verify we did this correctly by inspecting the first five rows of the dataset."
   ]
  },
  {
   "cell_type": "code",
   "execution_count": 1,
   "metadata": {
    "collapsed": false
   },
   "outputs": [
    {
     "data": {
      "text/plain": [
       "[['id', 'title', 'url', 'num_points', 'num_comments', 'author', 'created_at'],\n",
       " ['12224879',\n",
       "  'Interactive Dynamic Video',\n",
       "  'http://www.interactivedynamicvideo.com/',\n",
       "  '386',\n",
       "  '52',\n",
       "  'ne0phyte',\n",
       "  '8/4/2016 11:52'],\n",
       " ['10975351',\n",
       "  'How to Use Open Source and Shut the Fuck Up at the Same Time',\n",
       "  'http://hueniverse.com/2016/01/26/how-to-use-open-source-and-shut-the-fuck-up-at-the-same-time/',\n",
       "  '39',\n",
       "  '10',\n",
       "  'josep2',\n",
       "  '1/26/2016 19:30'],\n",
       " ['11964716',\n",
       "  \"Florida DJs May Face Felony for April Fools' Water Joke\",\n",
       "  'http://www.thewire.com/entertainment/2013/04/florida-djs-april-fools-water-joke/63798/',\n",
       "  '2',\n",
       "  '1',\n",
       "  'vezycash',\n",
       "  '6/23/2016 22:20'],\n",
       " ['11919867',\n",
       "  'Technology ventures: From Idea to Enterprise',\n",
       "  'https://www.amazon.com/Technology-Ventures-Enterprise-Thomas-Byers/dp/0073523429',\n",
       "  '3',\n",
       "  '1',\n",
       "  'hswarna',\n",
       "  '6/17/2016 0:01']]"
      ]
     },
     "execution_count": 1,
     "metadata": {},
     "output_type": "execute_result"
    }
   ],
   "source": [
    "import csv\n",
    "\n",
    "opened_file = open('hacker_news.csv')\n",
    "read_file = csv.reader(opened_file)\n",
    "hn = list(read_file)\n",
    "\n",
    "hn[0:5]"
   ]
  },
  {
   "cell_type": "markdown",
   "metadata": {},
   "source": [
    "Upon inspection, we'll find the first row of the data contains the name of the headers of this dataset. Let's separate the headers into its own variable from the rest of the data."
   ]
  },
  {
   "cell_type": "code",
   "execution_count": 2,
   "metadata": {
    "collapsed": false
   },
   "outputs": [
    {
     "data": {
      "text/plain": [
       "['id', 'title', 'url', 'num_points', 'num_comments', 'author', 'created_at']"
      ]
     },
     "execution_count": 2,
     "metadata": {},
     "output_type": "execute_result"
    }
   ],
   "source": [
    "headers = hn[0] #index 0\n",
    "headers"
   ]
  },
  {
   "cell_type": "code",
   "execution_count": 3,
   "metadata": {
    "collapsed": false
   },
   "outputs": [
    {
     "data": {
      "text/plain": [
       "[['12224879',\n",
       "  'Interactive Dynamic Video',\n",
       "  'http://www.interactivedynamicvideo.com/',\n",
       "  '386',\n",
       "  '52',\n",
       "  'ne0phyte',\n",
       "  '8/4/2016 11:52'],\n",
       " ['10975351',\n",
       "  'How to Use Open Source and Shut the Fuck Up at the Same Time',\n",
       "  'http://hueniverse.com/2016/01/26/how-to-use-open-source-and-shut-the-fuck-up-at-the-same-time/',\n",
       "  '39',\n",
       "  '10',\n",
       "  'josep2',\n",
       "  '1/26/2016 19:30'],\n",
       " ['11964716',\n",
       "  \"Florida DJs May Face Felony for April Fools' Water Joke\",\n",
       "  'http://www.thewire.com/entertainment/2013/04/florida-djs-april-fools-water-joke/63798/',\n",
       "  '2',\n",
       "  '1',\n",
       "  'vezycash',\n",
       "  '6/23/2016 22:20'],\n",
       " ['11919867',\n",
       "  'Technology ventures: From Idea to Enterprise',\n",
       "  'https://www.amazon.com/Technology-Ventures-Enterprise-Thomas-Byers/dp/0073523429',\n",
       "  '3',\n",
       "  '1',\n",
       "  'hswarna',\n",
       "  '6/17/2016 0:01'],\n",
       " ['10301696',\n",
       "  'Note by Note: The Making of Steinway L1037 (2007)',\n",
       "  'http://www.nytimes.com/2007/11/07/movies/07stein.html?_r=0',\n",
       "  '8',\n",
       "  '2',\n",
       "  'walterbell',\n",
       "  '9/30/2015 4:12']]"
      ]
     },
     "execution_count": 3,
     "metadata": {},
     "output_type": "execute_result"
    }
   ],
   "source": [
    "hn = hn[1:] #index 1 through end of rows\n",
    "hn[0:5]"
   ]
  },
  {
   "cell_type": "markdown",
   "metadata": {},
   "source": [
    "With our separated, clean data set we can now perform our first filter of content to analyze. In the Hacker News community, there are two common posts made by users: \"Ask Hacker News\" (ASK HN for short; in which users submit questions) and \"Show Hacker News\" (SHOW HN for short; in which users share content). We'll be comparing ASK posts against SHOW posts for this project.\n",
    "\n",
    "The following code is written to format and scan the beginning of each post and categorize them as either ask, show, or other."
   ]
  },
  {
   "cell_type": "code",
   "execution_count": 4,
   "metadata": {
    "collapsed": false
   },
   "outputs": [
    {
     "name": "stdout",
     "output_type": "stream",
     "text": [
      "1744\n",
      "1162\n",
      "17194\n"
     ]
    }
   ],
   "source": [
    "ask_posts = []\n",
    "show_posts = []\n",
    "other_posts = []\n",
    "\n",
    "for row in hn:\n",
    "    title = row[1]\n",
    "    if title.lower().startswith(\"ask hn\"):\n",
    "        ask_posts.append(row)\n",
    "    elif title.lower().startswith(\"show hn\"):\n",
    "        show_posts.append(row)\n",
    "    else:\n",
    "        other_posts.append(row)\n",
    "\n",
    "print(len(ask_posts))\n",
    "print(len(show_posts))\n",
    "print(len(other_posts))"
   ]
  },
  {
   "cell_type": "markdown",
   "metadata": {},
   "source": [
    "At the very least, this initial filter shows that \"Ask Hacker News\" content appears to be more frequent to the site. Now that we have our content filtered into separate ASK and SHOW lists, we will use the following code to calculate the average comments per post in each category."
   ]
  },
  {
   "cell_type": "code",
   "execution_count": 5,
   "metadata": {
    "collapsed": false
   },
   "outputs": [
    {
     "name": "stdout",
     "output_type": "stream",
     "text": [
      "Comment average for ASK posts: 14.038417431192661\n",
      "Comment average for SHOW posts: 10.31669535283993\n"
     ]
    }
   ],
   "source": [
    "total_ask_comments = 0\n",
    "\n",
    "for post in ask_posts:\n",
    "    num_comments = int(post[4])\n",
    "    total_ask_comments += num_comments\n",
    "\n",
    "avg_ask_comments = total_ask_comments / len(ask_posts)\n",
    "print(\"Comment average for ASK posts: \" + str(avg_ask_comments))\n",
    "\n",
    "total_show_comments = 0\n",
    "\n",
    "for post in show_posts:\n",
    "    num_comments = int(post[4])\n",
    "    total_show_comments += num_comments\n",
    "    \n",
    "avg_show_comments = total_show_comments / len(show_posts)\n",
    "print(\"Comment average for SHOW posts: \" + str(avg_show_comments))"
   ]
  },
  {
   "cell_type": "code",
   "execution_count": 6,
   "metadata": {
    "collapsed": false
   },
   "outputs": [
    {
     "name": "stdout",
     "output_type": "stream",
     "text": [
      "ASK posts receive 36.074750208924534% more comments than SHOW posts.\n"
     ]
    }
   ],
   "source": [
    "ask_vs_show = (avg_ask_comments - avg_show_comments) /  avg_show_comments\n",
    "print(\"ASK posts receive \" + str(ask_vs_show*100) + \"% more comments than SHOW posts.\")"
   ]
  },
  {
   "cell_type": "markdown",
   "metadata": {},
   "source": [
    "Our analysis shows that ASK posts will more likely gain on average 4 more comments than SHOW posts. For the remainder of this project, we'll mainly concentrate on the \"Ask Hacker News\" types of posts."
   ]
  },
  {
   "cell_type": "markdown",
   "metadata": {},
   "source": [
    "## Time Analysis\n",
    "\n",
    "In this portion of the analysis we will determine which of the 24 hours in the day is expected to yield the most comments when making an Ask Hacker News post. \n",
    "\n",
    "The loop below is designed to extract the time and total number of comments from each entry in the ask_posts subset. Then we'll use the strptime (string-parse-time) method from the datetime library to convert the date-string to a datetime object and the strftime (string-format-time) method to save the respective hour to a variable.\n",
    "\n",
    "Finally, we'll create two frequency tables to store the number of records containing the appropriate hour (counts_by_hour) and the total number of comments corresponding to the entry's hour (comment_by_hour)."
   ]
  },
  {
   "cell_type": "code",
   "execution_count": 7,
   "metadata": {
    "collapsed": false
   },
   "outputs": [],
   "source": [
    "import datetime as dt\n",
    "\n",
    "result_list = []\n",
    "\n",
    "for post in ask_posts:\n",
    "    stamp = post[6]\n",
    "    comments = int(post[4])\n",
    "    result_list.append([stamp, comments])\n",
    "    \n",
    "\n",
    "counts_by_hour = {}\n",
    "comments_by_hour = {}\n",
    "\n",
    "for result in result_list:\n",
    "    date = result[0]\n",
    "    comments = result[1]\n",
    "    \n",
    "    stamp = dt.datetime.strptime(date, '%m/%d/%Y %H:%M')\n",
    "    hour = dt.datetime.strftime(stamp, '%H')\n",
    "    \n",
    "    if hour not in counts_by_hour:\n",
    "        counts_by_hour[hour] = 1\n",
    "        comments_by_hour[hour] = comments\n",
    "    else:\n",
    "        counts_by_hour[hour] += 1\n",
    "        comments_by_hour[hour] += comments"
   ]
  },
  {
   "cell_type": "markdown",
   "metadata": {},
   "source": [
    "With both the total number of entries and comments by hour, we can calculate the average number of comments a post from each hour will receive."
   ]
  },
  {
   "cell_type": "code",
   "execution_count": 8,
   "metadata": {
    "collapsed": false
   },
   "outputs": [
    {
     "data": {
      "text/plain": [
       "[['04', 7.170212765957447],\n",
       " ['02', 23.810344827586206],\n",
       " ['15', 38.5948275862069],\n",
       " ['22', 6.746478873239437],\n",
       " ['11', 11.051724137931034],\n",
       " ['17', 11.46],\n",
       " ['16', 16.796296296296298],\n",
       " ['20', 21.525],\n",
       " ['13', 14.741176470588234],\n",
       " ['00', 8.127272727272727],\n",
       " ['14', 13.233644859813085],\n",
       " ['03', 7.796296296296297],\n",
       " ['21', 16.009174311926607],\n",
       " ['07', 7.852941176470588],\n",
       " ['19', 10.8],\n",
       " ['18', 13.20183486238532],\n",
       " ['12', 9.41095890410959],\n",
       " ['09', 5.5777777777777775],\n",
       " ['05', 10.08695652173913],\n",
       " ['06', 9.022727272727273],\n",
       " ['23', 7.985294117647059],\n",
       " ['10', 13.440677966101696],\n",
       " ['08', 10.25],\n",
       " ['01', 11.383333333333333]]"
      ]
     },
     "execution_count": 8,
     "metadata": {},
     "output_type": "execute_result"
    }
   ],
   "source": [
    "avg_by_hour = []\n",
    "\n",
    "for key, value in counts_by_hour.items():\n",
    "    average = comments_by_hour[key] / counts_by_hour[key]\n",
    "    avg_by_hour.append([key, average])\n",
    "    \n",
    "avg_by_hour"
   ]
  },
  {
   "cell_type": "markdown",
   "metadata": {},
   "source": [
    "## Displaying the Top 5 Times"
   ]
  },
  {
   "cell_type": "markdown",
   "metadata": {},
   "source": [
    "Next, we'll save the avg result to the 0 index and use the sorted() method to display the values in descending order, giving us our top 5 times. For better readability, the format() method will be used to insert the desired values into a template string."
   ]
  },
  {
   "cell_type": "code",
   "execution_count": 9,
   "metadata": {
    "collapsed": true
   },
   "outputs": [],
   "source": [
    "swap_avg_by_hour = []\n",
    "\n",
    "for average in avg_by_hour:\n",
    "    swap_avg_by_hour.append([average[1], average[0]])\n",
    "\n",
    "sorted_swap = sorted(swap_avg_by_hour, reverse=True)"
   ]
  },
  {
   "cell_type": "code",
   "execution_count": 10,
   "metadata": {
    "collapsed": false
   },
   "outputs": [
    {
     "name": "stdout",
     "output_type": "stream",
     "text": [
      "Top 5 Hours for Ask Posts Comments:\n",
      "***********************************\n",
      "15: 38.59 average comments per post\n",
      "02: 23.81 average comments per post\n",
      "20: 21.52 average comments per post\n",
      "16: 16.80 average comments per post\n",
      "21: 16.01 average comments per post\n"
     ]
    }
   ],
   "source": [
    "print(\"Top 5 Hours for Ask Posts Comments:\")\n",
    "print(\"***********************************\")\n",
    "\n",
    "for hours in sorted_swap[0:5]:\n",
    "    \n",
    "    hour_dt = dt.datetime.strptime(hours[1], '%H')\n",
    "    time = dt.datetime.strftime(hour_dt, '%H')\n",
    "    average = hours[0]\n",
    "    \n",
    "    template = \"{t}: {a:.2f} average comments per post\"\n",
    "    output = template.format(t=time, a=average)\n",
    "    print(output)"
   ]
  },
  {
   "cell_type": "markdown",
   "metadata": {},
   "source": [
    "## Conclusion\n",
    "\n",
    "According to our analysis, posts in the \"Ask Hacker News\" format receive 36% more comments than posts in the \"Show Hacker News\" format.\n",
    "\n",
    "Of the \"Ask Hacker News\" format content, posts are likely to get the most comments when created at 3PM with an average of 38.59. Favorable windows also include from 8-9PM, 3-4PM and 2AM."
   ]
  }
 ],
 "metadata": {
  "kernelspec": {
   "display_name": "Python 3",
   "language": "python",
   "name": "python3"
  },
  "language_info": {
   "codemirror_mode": {
    "name": "ipython",
    "version": 3
   },
   "file_extension": ".py",
   "mimetype": "text/x-python",
   "name": "python",
   "nbconvert_exporter": "python",
   "pygments_lexer": "ipython3",
   "version": "3.4.3"
  }
 },
 "nbformat": 4,
 "nbformat_minor": 2
}
