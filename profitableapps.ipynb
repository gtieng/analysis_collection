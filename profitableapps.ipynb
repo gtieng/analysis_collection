{
 "cells": [
  {
   "cell_type": "markdown",
   "metadata": {},
   "source": [
    "# Defining the most profitable apps on Google Play and the App Store through Data Analysis\n",
    "\n",
    "** by Gerard Tieng **\n",
    "\n",
    "\n",
    "Today, we will be assuming the role of a Data Analyst whose task is to sift through metadata from the App Store and Google Play to identify app categories that would be most profitable for development. The following notebook will cover the following skills/tasks in the analysis process:\n",
    "\n",
    " - Opening, reading, and saving data from CSV files (CSV library)\n",
    " - General inspection of data structure\n",
    " - Removing invalid data entries\n",
    " - Identifying duplicate entries (frequency tables)\n",
    " - Data filtering by category and non-English apps\n",
    " - Percentage calculations of categories from large datasets"
   ]
  },
  {
   "cell_type": "markdown",
   "metadata": {},
   "source": [
    "## Importing the Data\n",
    "\n",
    "Data for this project is provided by two public datasets from Kaggle.[This dataset](https://www.kaggle.com/lava18/google-play-store-apps) features a scraping of 10,000 apps from the Google Play store, while [this dataset](https://www.kaggle.com/ramamet4/app-store-apple-data-set-10k-apps) covers roughly 7,000 apps from Apple's App Store.\n",
    "\n",
    "Let's begin by loading in our CSVs for our two datasets: AppleStore.csv & googleplaystore.csv. We'll be using the csv python library to convert each file to Python list types."
   ]
  },
  {
   "cell_type": "code",
   "execution_count": 1,
   "metadata": {
    "collapsed": false
   },
   "outputs": [],
   "source": [
    "import csv\n",
    "\n",
    "apple_file = open('AppleStore.csv')\n",
    "apple_reader = csv.reader(apple_file)\n",
    "apple_data = list(apple_reader)\n",
    "\n",
    "google_file = open('googleplaystore.csv')\n",
    "google_reader = csv.reader(google_file)\n",
    "google_data = list(google_reader)"
   ]
  },
  {
   "cell_type": "markdown",
   "metadata": {},
   "source": [
    "Here's a simple function we created to print the number of records in the dataset, as well as the column names from the CSV header."
   ]
  },
  {
   "cell_type": "code",
   "execution_count": 2,
   "metadata": {
    "collapsed": false
   },
   "outputs": [],
   "source": [
    "def explore_data(dataset):\n",
    "    print(\"The length of this dataset is \" + str(len(dataset)) + \", with the following column names:\")\n",
    "    for columns in dataset[0]:\n",
    "        print(columns)"
   ]
  },
  {
   "cell_type": "code",
   "execution_count": 3,
   "metadata": {
    "collapsed": false
   },
   "outputs": [
    {
     "name": "stdout",
     "output_type": "stream",
     "text": [
      "The length of this dataset is 7198, with the following column names:\n",
      "id\n",
      "track_name\n",
      "size_bytes\n",
      "currency\n",
      "price\n",
      "rating_count_tot\n",
      "rating_count_ver\n",
      "user_rating\n",
      "user_rating_ver\n",
      "ver\n",
      "cont_rating\n",
      "prime_genre\n",
      "sup_devices.num\n",
      "ipadSc_urls.num\n",
      "lang.num\n",
      "vpp_lic\n"
     ]
    }
   ],
   "source": [
    "explore_data(apple_data)"
   ]
  },
  {
   "cell_type": "code",
   "execution_count": 4,
   "metadata": {
    "collapsed": false
   },
   "outputs": [
    {
     "name": "stdout",
     "output_type": "stream",
     "text": [
      "The length of this dataset is 10842, with the following column names:\n",
      "App\n",
      "Category\n",
      "Rating\n",
      "Reviews\n",
      "Size\n",
      "Installs\n",
      "Type\n",
      "Price\n",
      "Content Rating\n",
      "Genres\n",
      "Last Updated\n",
      "Current Ver\n",
      "Android Ver\n"
     ]
    }
   ],
   "source": [
    "explore_data(google_data)"
   ]
  },
  {
   "cell_type": "markdown",
   "metadata": {},
   "source": [
    "## Cleaning the Data"
   ]
  },
  {
   "cell_type": "markdown",
   "metadata": {},
   "source": [
    "### Part One: Eliminating Errors"
   ]
  },
  {
   "cell_type": "markdown",
   "metadata": {},
   "source": [
    "According to [this discussion](https://www.kaggle.com/lava18/google-play-store-apps/discussion/66015), there is one row of records from the Google Play set with a missing value at index 10473. — Let's delete that row."
   ]
  },
  {
   "cell_type": "code",
   "execution_count": 5,
   "metadata": {
    "collapsed": false
   },
   "outputs": [
    {
     "data": {
      "text/plain": [
       "['Life Made WI-Fi Touchscreen Photo Frame',\n",
       " '1.9',\n",
       " '19',\n",
       " '3.0M',\n",
       " '1,000+',\n",
       " 'Free',\n",
       " '0',\n",
       " 'Everyone',\n",
       " '',\n",
       " 'February 11, 2018',\n",
       " '1.0.19',\n",
       " '4.0 and up']"
      ]
     },
     "execution_count": 5,
     "metadata": {},
     "output_type": "execute_result"
    }
   ],
   "source": [
    "google_data[10473]"
   ]
  },
  {
   "cell_type": "code",
   "execution_count": 6,
   "metadata": {
    "collapsed": true
   },
   "outputs": [],
   "source": [
    "del google_data[10473]"
   ]
  },
  {
   "cell_type": "markdown",
   "metadata": {},
   "source": [
    "### Part Two: Handling Duplicates"
   ]
  },
  {
   "cell_type": "markdown",
   "metadata": {},
   "source": [
    "With even further inspection of the Google Play dataset, we'll also find many duplicate entries. Instagram, for example, is listed four times. We'll use the following function to loop through the dataset and detect matches for any app named \"Instagram\"."
   ]
  },
  {
   "cell_type": "code",
   "execution_count": 7,
   "metadata": {
    "collapsed": false
   },
   "outputs": [
    {
     "name": "stdout",
     "output_type": "stream",
     "text": [
      "['Instagram', 'SOCIAL', '4.5', '66577313', 'Varies with device', '1,000,000,000+', 'Free', '0', 'Teen', 'Social', 'July 31, 2018', 'Varies with device', 'Varies with device']\n",
      "['Instagram', 'SOCIAL', '4.5', '66577446', 'Varies with device', '1,000,000,000+', 'Free', '0', 'Teen', 'Social', 'July 31, 2018', 'Varies with device', 'Varies with device']\n",
      "['Instagram', 'SOCIAL', '4.5', '66577313', 'Varies with device', '1,000,000,000+', 'Free', '0', 'Teen', 'Social', 'July 31, 2018', 'Varies with device', 'Varies with device']\n",
      "['Instagram', 'SOCIAL', '4.5', '66509917', 'Varies with device', '1,000,000,000+', 'Free', '0', 'Teen', 'Social', 'July 31, 2018', 'Varies with device', 'Varies with device']\n"
     ]
    }
   ],
   "source": [
    "def insta_dupes():\n",
    "    dupes = []\n",
    "    for row in google_data[1:]:\n",
    "        if row[0] == 'Instagram':\n",
    "            print(row)\n",
    "\n",
    "insta_dupes()"
   ]
  },
  {
   "cell_type": "markdown",
   "metadata": {},
   "source": [
    "Let's see how far this goes throughout the whole dataset. The following code will loop through the Google Play dataset to add the first instance of an app name to a list. If any further instances appear after being checked against the unique list, that app name will be identified as a duplicate and added to a separate list."
   ]
  },
  {
   "cell_type": "code",
   "execution_count": 8,
   "metadata": {
    "collapsed": false
   },
   "outputs": [
    {
     "name": "stdout",
     "output_type": "stream",
     "text": [
      "There are a total of 1181 duplicate apps.\n",
      "\n",
      "Examples of duplicate apps: ['Quick PDF Scanner + OCR FREE', 'Box', 'Google My Business', 'ZOOM Cloud Meetings', 'join.me - Simple Meetings', 'Box', 'Zenefits', 'Google Ads', 'Google My Business', 'Slack']\n"
     ]
    }
   ],
   "source": [
    "duplicate_apps = []\n",
    "unique_apps = []\n",
    "\n",
    "for i in google_data[1:]:\n",
    "    if i[0] in unique_apps:\n",
    "        duplicate_apps.append(i[0])\n",
    "    else:\n",
    "        unique_apps.append(i[0])\n",
    "\n",
    "print(\"There are a total of \" + str(len(duplicate_apps)) + \" duplicate apps.\")\n",
    "print(\"\")\n",
    "print(\"Examples of duplicate apps:\", duplicate_apps[:10])      \n"
   ]
  },
  {
   "cell_type": "markdown",
   "metadata": {},
   "source": [
    "As far as duplicates go, we will only concern ourselves with the app which has the highest amount of reviews. The following code will loop through the Google Play dataset and create a dictionary of unique app names plus their corresponding review count. When the loop comes across a duplicate, it will update the dictionary key with the higher review count."
   ]
  },
  {
   "cell_type": "code",
   "execution_count": 9,
   "metadata": {
    "collapsed": false
   },
   "outputs": [],
   "source": [
    "reviews_max = {}\n",
    "\n",
    "for i in google_data[1:]:\n",
    "    name = i[0]\n",
    "    n_reviews = float(i[3])\n",
    "    \n",
    "    if name in reviews_max and reviews_max[name] < n_reviews:\n",
    "        reviews_max[name] = n_reviews\n",
    "    elif name not in reviews_max:\n",
    "        reviews_max[name] = n_reviews"
   ]
  },
  {
   "cell_type": "markdown",
   "metadata": {},
   "source": [
    "The total amount of unique apps is as shown below:"
   ]
  },
  {
   "cell_type": "code",
   "execution_count": 10,
   "metadata": {
    "collapsed": false
   },
   "outputs": [
    {
     "data": {
      "text/plain": [
       "9659"
      ]
     },
     "execution_count": 10,
     "metadata": {},
     "output_type": "execute_result"
    }
   ],
   "source": [
    "len(reviews_max)"
   ]
  },
  {
   "cell_type": "markdown",
   "metadata": {},
   "source": [
    "Time to compile. The following code will produce a clean dataset featuring no duplicate entries. If the review count for the row entry matches our record in the dictionary of the highest reviews, it will be added to the list."
   ]
  },
  {
   "cell_type": "code",
   "execution_count": 11,
   "metadata": {
    "collapsed": false
   },
   "outputs": [],
   "source": [
    "android_clean = []\n",
    "already_added = []\n",
    "\n",
    "for i in google_data[1:]:\n",
    "    name = i[0]\n",
    "    n_reviews = float(i[3])\n",
    "    \n",
    "    if n_reviews == reviews_max[name] and name not in already_added:\n",
    "        android_clean.append(i)\n",
    "        already_added.append(name)"
   ]
  },
  {
   "cell_type": "markdown",
   "metadata": {},
   "source": [
    "The clean dataset is a verified match to the maximum reviews dataset!"
   ]
  },
  {
   "cell_type": "code",
   "execution_count": 12,
   "metadata": {
    "collapsed": false
   },
   "outputs": [
    {
     "data": {
      "text/plain": [
       "9659"
      ]
     },
     "execution_count": 12,
     "metadata": {},
     "output_type": "execute_result"
    }
   ],
   "source": [
    "len(android_clean)"
   ]
  },
  {
   "cell_type": "markdown",
   "metadata": {},
   "source": [
    "### Part Three: Filtering Out Non-English & Paid Apps"
   ]
  },
  {
   "cell_type": "markdown",
   "metadata": {},
   "source": [
    "Now that our dataset has no duplicates, we will be going another level deeper in its cleaning by filtering out any Non-English Apps. Python's built-in ord() function allows for us to check the unicode equivalent of any character in a string. All English characters will translate to a number equal to or less than 127."
   ]
  },
  {
   "cell_type": "code",
   "execution_count": 13,
   "metadata": {
    "collapsed": true
   },
   "outputs": [],
   "source": [
    "def english_check(word):\n",
    "    for i in word:\n",
    "        if ord(i) > 127:\n",
    "            return False\n",
    "    return True"
   ]
  },
  {
   "cell_type": "code",
   "execution_count": 14,
   "metadata": {
    "collapsed": false
   },
   "outputs": [
    {
     "data": {
      "text/plain": [
       "True"
      ]
     },
     "execution_count": 14,
     "metadata": {},
     "output_type": "execute_result"
    }
   ],
   "source": [
    "english_check(\"instagram\")"
   ]
  },
  {
   "cell_type": "markdown",
   "metadata": {},
   "source": [
    "For the purposes of this project, we will earmark any app name that includes more than 3 non-English characters as a non-English app. Here is a function that loops through each character in a string to see if it passes our ord() test."
   ]
  },
  {
   "cell_type": "code",
   "execution_count": 15,
   "metadata": {
    "collapsed": true
   },
   "outputs": [],
   "source": [
    "def english_check(string):\n",
    "    symbol_counter = 0\n",
    "    for character in string:\n",
    "        if ord(character) > 127:\n",
    "            symbol_counter += 1\n",
    "    \n",
    "    if symbol_counter > 3:\n",
    "        return False\n",
    "    \n",
    "    return True"
   ]
  },
  {
   "cell_type": "code",
   "execution_count": 16,
   "metadata": {
    "collapsed": false
   },
   "outputs": [
    {
     "name": "stdout",
     "output_type": "stream",
     "text": [
      "True\n",
      "True\n",
      "False\n"
     ]
    }
   ],
   "source": [
    "print(english_check('Docs To Go™ Free Office Suite'))\n",
    "print(english_check('Instachat 😜'))\n",
    "print(english_check('爱奇艺PPS -《欢乐颂2》电视剧热播'))"
   ]
  },
  {
   "cell_type": "markdown",
   "metadata": {},
   "source": [
    "Now, let's use our english_check() function to filter through our App Store and Google Play datasets. The following code will loop through our datasets and every record returns positive for English will be added to a list for English-titled apps."
   ]
  },
  {
   "cell_type": "code",
   "execution_count": 17,
   "metadata": {
    "collapsed": false
   },
   "outputs": [
    {
     "name": "stdout",
     "output_type": "stream",
     "text": [
      "Number of English Apple apps: 7197\n",
      "Number of English Google apps: 10795\n"
     ]
    }
   ],
   "source": [
    "apple_en = []\n",
    "google_en = []\n",
    "\n",
    "for i in apple_data[1:]:\n",
    "    name = i[0]\n",
    "    if english_check(name):\n",
    "        apple_en.append(i)\n",
    "\n",
    "for i in google_data[1:]:\n",
    "    name = i[0]\n",
    "    if english_check(name):\n",
    "        google_en.append(i)\n",
    "        \n",
    "print(\"Number of English Apple apps: \" + str(len(apple_en)))\n",
    "print(\"Number of English Google apps: \" + str(len(google_en)))"
   ]
  },
  {
   "cell_type": "markdown",
   "metadata": {},
   "source": [
    "We'll use a similar method to filter and keep all apps from each dataset that costs $0. The outcome will be the final versions of each dataset to use for analysis."
   ]
  },
  {
   "cell_type": "code",
   "execution_count": 18,
   "metadata": {
    "collapsed": false
   },
   "outputs": [
    {
     "name": "stdout",
     "output_type": "stream",
     "text": [
      "Number of free Apple apps: 4056\n",
      "Number of free Google apps: 9999\n"
     ]
    }
   ],
   "source": [
    "apple_free = []\n",
    "google_free = []\n",
    "\n",
    "for i in apple_en:\n",
    "    if i[4] == '0.0':\n",
    "        apple_free.append(i)\n",
    "        \n",
    "for i in google_en:\n",
    "    if i[7] == '0':\n",
    "        google_free.append(i)\n",
    "\n",
    "print(\"Number of free Apple apps: \" + str(len(apple_free)))\n",
    "print(\"Number of free Google apps: \" + str(len(google_free)))"
   ]
  },
  {
   "cell_type": "markdown",
   "metadata": {},
   "source": [
    "## Analyzing the Data"
   ]
  },
  {
   "cell_type": "markdown",
   "metadata": {
    "collapsed": true
   },
   "source": [
    "With our final dataset, we'll begin to analyze the data to identify the most popular apps on Google Play and the App Store based on genre. To do this, we'll build a frequency table function to count the amount of times each Genre appears in each respective dataset. We'll also include a counter to measure the number of records for the purposes of converting each genre count as a percentage of the total. "
   ]
  },
  {
   "cell_type": "code",
   "execution_count": 20,
   "metadata": {
    "collapsed": false
   },
   "outputs": [],
   "source": [
    "def freq_table(dataset, index):\n",
    "    table = {}\n",
    "    total = 0\n",
    "    \n",
    "    for row in dataset[1:]:\n",
    "        genre = row[index]\n",
    "        total += 1\n",
    "        \n",
    "        if genre in table:\n",
    "            table[genre] += 1\n",
    "        else:\n",
    "            table[genre] = 1\n",
    "    \n",
    "    table_percent = {}\n",
    "    for key in table:\n",
    "        percentage = (table[key] / total) * 100\n",
    "        table_percent[key] = percentage\n",
    "        \n",
    "    return table_percent"
   ]
  },
  {
   "cell_type": "markdown",
   "metadata": {},
   "source": [
    "The code below nests the frequency table function from above, allowing us to sort genre counts and display them in desecending order."
   ]
  },
  {
   "cell_type": "code",
   "execution_count": 21,
   "metadata": {
    "collapsed": true
   },
   "outputs": [],
   "source": [
    "def display_table(dataset, index):\n",
    "    table = freq_table(dataset, index)\n",
    "    table_display = []\n",
    "    for key in table:\n",
    "        key_val_as_tuple = (table[key], key)\n",
    "        table_display.append(key_val_as_tuple)\n",
    "\n",
    "    table_sorted = sorted(table_display, reverse = True)\n",
    "    for entry in table_sorted:\n",
    "        print(entry[1], ':', entry[0])"
   ]
  },
  {
   "cell_type": "markdown",
   "metadata": {},
   "source": [
    "The genre percentages from the App Store dataset shows that Games dominate the market with a 55% share. Meanwhile, the next three runner-up genres comprise of fun apps in the form of Entertainment, Photo/Video, and Social Networking."
   ]
  },
  {
   "cell_type": "code",
   "execution_count": 22,
   "metadata": {
    "collapsed": false
   },
   "outputs": [
    {
     "name": "stdout",
     "output_type": "stream",
     "text": [
      "Games : 55.659679408138096\n",
      "Entertainment : 8.236744759556105\n",
      "Photo & Video : 4.1183723797780525\n",
      "Social Networking : 3.501849568434032\n",
      "Education : 3.255240443896424\n",
      "Shopping : 2.9839704069050557\n",
      "Utilities : 2.688039457459926\n",
      "Lifestyle : 2.318125770653514\n",
      "Finance : 2.0715166461159065\n",
      "Sports : 1.9482120838471024\n",
      "Health & Fitness : 1.8742293464858202\n",
      "Music : 1.6522811344019728\n",
      "Book : 1.627620221948212\n",
      "Productivity : 1.528976572133169\n",
      "News : 1.4303329223181258\n",
      "Travel : 1.381011097410604\n",
      "Food & Drink : 1.060419235511714\n",
      "Weather : 0.7644882860665845\n",
      "Reference : 0.4932182490752158\n",
      "Navigation : 0.4932182490752158\n",
      "Business : 0.4932182490752158\n",
      "Catalogs : 0.22194821208384713\n",
      "Medical : 0.19728729963008632\n"
     ]
    }
   ],
   "source": [
    "display_table(apple_free, 11)"
   ]
  },
  {
   "cell_type": "markdown",
   "metadata": {},
   "source": [
    "Family takes the No. 1 spot of all Google Play categories, though mostly comprised of games for kids. Still, the Google Play set sees a more even distribution of genres when compared to the App Store."
   ]
  },
  {
   "cell_type": "code",
   "execution_count": 24,
   "metadata": {
    "collapsed": false
   },
   "outputs": [
    {
     "name": "stdout",
     "output_type": "stream",
     "text": [
      "FAMILY : 17.67353470694139\n",
      "GAME : 10.592118423684736\n",
      "TOOLS : 7.641528305661133\n",
      "BUSINESS : 4.450890178035607\n",
      "PRODUCTIVITY : 3.9507901580316065\n",
      "SPORTS : 3.6007201440288057\n",
      "LIFESTYLE : 3.590718143628726\n",
      "COMMUNICATION : 3.590718143628726\n",
      "MEDICAL : 3.540708141628326\n",
      "FINANCE : 3.4906981396279257\n",
      "HEALTH_AND_FITNESS : 3.2506501300260053\n",
      "PHOTOGRAPHY : 3.120624124824965\n",
      "PERSONALIZATION : 3.080616123224645\n",
      "SOCIAL : 2.9205841168233646\n",
      "NEWS_AND_MAGAZINES : 2.7705541108221645\n",
      "SHOPPING : 2.570514102820564\n",
      "TRAVEL_AND_LOCAL : 2.4604920984196843\n",
      "DATING : 2.2704540908181636\n",
      "BOOKS_AND_REFERENCE : 1.990398079615923\n",
      "VIDEO_PLAYERS : 1.7003400680136025\n",
      "EDUCATION : 1.5103020604120825\n",
      "ENTERTAINMENT : 1.4702940588117623\n",
      "MAPS_AND_NAVIGATION : 1.300260052010402\n",
      "FOOD_AND_DRINK : 1.250250050010002\n",
      "HOUSE_AND_HOME : 0.8801760352070414\n",
      "LIBRARIES_AND_DEMO : 0.8401680336067214\n",
      "AUTO_AND_VEHICLES : 0.8201640328065612\n",
      "WEATHER : 0.7401480296059212\n",
      "EVENTS : 0.630126025205041\n",
      "ART_AND_DESIGN : 0.6001200240048009\n",
      "COMICS : 0.590118023604721\n",
      "PARENTING : 0.580116023204641\n",
      "BEAUTY : 0.5301060212042409\n"
     ]
    }
   ],
   "source": [
    "display_table(google_free, 1) #Category"
   ]
  },
  {
   "cell_type": "code",
   "execution_count": 23,
   "metadata": {
    "collapsed": false
   },
   "outputs": [
    {
     "name": "stdout",
     "output_type": "stream",
     "text": [
      "Tools : 7.631526305261052\n",
      "Entertainment : 6.00120024004801\n",
      "Education : 5.1310262052410485\n",
      "Business : 4.450890178035607\n",
      "Productivity : 3.9507901580316065\n",
      "Sports : 3.7407481496299257\n",
      "Communication : 3.590718143628726\n",
      "Lifestyle : 3.580716143228646\n",
      "Medical : 3.540708141628326\n",
      "Finance : 3.4906981396279257\n",
      "Action : 3.410682136427286\n",
      "Health & Fitness : 3.2506501300260053\n",
      "Photography : 3.120624124824965\n",
      "Personalization : 3.080616123224645\n",
      "Social : 2.9205841168233646\n",
      "News & Magazines : 2.7705541108221645\n",
      "Shopping : 2.570514102820564\n",
      "Travel & Local : 2.450490098019604\n",
      "Dating : 2.2704540908181636\n",
      "Arcade : 2.000400080016003\n",
      "Books & Reference : 1.990398079615923\n",
      "Simulation : 1.8803760752150431\n",
      "Casual : 1.8403680736147228\n",
      "Video Players & Editors : 1.6803360672134429\n",
      "Maps & Navigation : 1.300260052010402\n",
      "Food & Drink : 1.250250050010002\n",
      "Puzzle : 1.2102420484096819\n",
      "Racing : 0.9501900380076015\n",
      "Strategy : 0.9301860372074415\n",
      "House & Home : 0.8801760352070414\n",
      "Role Playing : 0.8701740348069614\n",
      "Libraries & Demo : 0.8401680336067214\n",
      "Auto & Vehicles : 0.8201640328065612\n",
      "Weather : 0.7401480296059212\n",
      "Events : 0.630126025205041\n",
      "Adventure : 0.620124024804961\n",
      "Comics : 0.580116023204641\n",
      "Beauty : 0.5301060212042409\n",
      "Art & Design : 0.5301060212042409\n",
      "Parenting : 0.4400880176035207\n",
      "Education;Education : 0.4300860172034407\n",
      "Card : 0.4100820164032806\n",
      "Educational;Education : 0.3800760152030406\n",
      "Casino : 0.3800760152030406\n",
      "Trivia : 0.3700740148029606\n",
      "Board : 0.3500700140028006\n",
      "Educational : 0.33006601320264056\n",
      "Word : 0.2900580116023205\n",
      "Entertainment;Music & Video : 0.2700540108021604\n",
      "Casual;Pretend Play : 0.2500500100020004\n",
      "Music : 0.21004200840168036\n",
      "Casual;Action & Adventure : 0.20004000800160032\n",
      "Racing;Action & Adventure : 0.1900380076015203\n",
      "Puzzle;Brain Games : 0.17003400680136027\n",
      "Educational;Pretend Play : 0.14002800560112022\n",
      "Action;Action & Adventure : 0.14002800560112022\n",
      "Casual;Brain Games : 0.13002600520104018\n",
      "Arcade;Action & Adventure : 0.12002400480096019\n",
      "Simulation;Action & Adventure : 0.11002200440088017\n",
      "Adventure;Action & Adventure : 0.11002200440088017\n",
      "Entertainment;Brain Games : 0.08001600320064013\n",
      "Education;Pretend Play : 0.08001600320064013\n",
      "Board;Brain Games : 0.08001600320064013\n",
      "Parenting;Education : 0.07001400280056011\n",
      "Casual;Creativity : 0.07001400280056011\n",
      "Art & Design;Creativity : 0.07001400280056011\n",
      "Role Playing;Action & Adventure : 0.060012002400480095\n",
      "Parenting;Music & Video : 0.060012002400480095\n",
      "Educational;Brain Games : 0.060012002400480095\n",
      "Role Playing;Pretend Play : 0.05001000200040008\n",
      "Puzzle;Action & Adventure : 0.05001000200040008\n",
      "Education;Music & Video : 0.05001000200040008\n",
      "Education;Creativity : 0.05001000200040008\n",
      "Educational;Action & Adventure : 0.040008001600320066\n",
      "Education;Brain Games : 0.040008001600320066\n",
      "Education;Action & Adventure : 0.040008001600320066\n",
      "Video Players & Editors;Music & Video : 0.030006001200240048\n",
      "Simulation;Pretend Play : 0.030006001200240048\n",
      "Entertainment;Creativity : 0.030006001200240048\n",
      "Entertainment;Action & Adventure : 0.030006001200240048\n",
      "Educational;Creativity : 0.030006001200240048\n",
      "Video Players & Editors;Creativity : 0.020004000800160033\n",
      "Sports;Action & Adventure : 0.020004000800160033\n",
      "Puzzle;Creativity : 0.020004000800160033\n",
      "Music;Music & Video : 0.020004000800160033\n",
      "Entertainment;Pretend Play : 0.020004000800160033\n",
      "Casual;Music & Video : 0.020004000800160033\n",
      "Casual;Education : 0.020004000800160033\n",
      "Board;Action & Adventure : 0.020004000800160033\n",
      "Art & Design;Pretend Play : 0.020004000800160033\n",
      "Art & Design;Action & Adventure : 0.020004000800160033\n",
      "Adventure;Education : 0.020004000800160033\n",
      "Trivia;Education : 0.010002000400080016\n",
      "Travel & Local;Action & Adventure : 0.010002000400080016\n",
      "Tools;Education : 0.010002000400080016\n",
      "Strategy;Education : 0.010002000400080016\n",
      "Strategy;Creativity : 0.010002000400080016\n",
      "Strategy;Action & Adventure : 0.010002000400080016\n",
      "Simulation;Education : 0.010002000400080016\n",
      "Role Playing;Brain Games : 0.010002000400080016\n",
      "Racing;Pretend Play : 0.010002000400080016\n",
      "Puzzle;Education : 0.010002000400080016\n",
      "Parenting;Brain Games : 0.010002000400080016\n",
      "Music & Audio;Music & Video : 0.010002000400080016\n",
      "Lifestyle;Pretend Play : 0.010002000400080016\n",
      "Lifestyle;Education : 0.010002000400080016\n",
      "Health & Fitness;Education : 0.010002000400080016\n",
      "Health & Fitness;Action & Adventure : 0.010002000400080016\n",
      "Entertainment;Education : 0.010002000400080016\n",
      "Communication;Creativity : 0.010002000400080016\n",
      "Comics;Creativity : 0.010002000400080016\n",
      "Card;Brain Games : 0.010002000400080016\n",
      "Card;Action & Adventure : 0.010002000400080016\n",
      "Books & Reference;Education : 0.010002000400080016\n",
      "Arcade;Pretend Play : 0.010002000400080016\n"
     ]
    }
   ],
   "source": [
    "display_table(google_free, -4) # Genre"
   ]
  },
  {
   "cell_type": "markdown",
   "metadata": {},
   "source": [
    "By another metric, we can also rank popular apps by their installation history. In the Google Play dataset, installs are measured in milestones such as 1M+ and 10M+. We'll need to use Python's replace() function to eliminate symbols such as comma and plus before we can aggregrate totals.\n",
    "\n",
    "As expected, Games, Social Media, and Photography rank high on this list, but Communication appears the most useful as the Genre with the largest install base."
   ]
  },
  {
   "cell_type": "code",
   "execution_count": 26,
   "metadata": {
    "collapsed": false
   },
   "outputs": [
    {
     "name": "stdout",
     "output_type": "stream",
     "text": [
      "GAME : 33111302.596789423\n",
      "MAPS_AND_NAVIGATION : 5569698.307692308\n",
      "COMICS : 950443.220338983\n",
      "BUSINESS : 2250454.1348314607\n",
      "SPORTS : 4860918.563888889\n",
      "WEATHER : 5747142.162162162\n",
      "HOUSE_AND_HOME : 1917187.0568181819\n",
      "EDUCATION : 5760596.026490066\n",
      "LIBRARIES_AND_DEMO : 749950.119047619\n",
      "TRAVEL_AND_LOCAL : 27921561.32520325\n",
      "DATING : 1164270.7356828193\n",
      "BEAUTY : 513151.88679245283\n",
      "SHOPPING : 12637504.221789883\n",
      "AUTO_AND_VEHICLES : 647317.8170731707\n",
      "HEALTH_AND_FITNESS : 4869225.852307692\n",
      "FOOD_AND_DRINK : 2190710.008\n",
      "LIFESTYLE : 1479956.6267409471\n",
      "MEDICAL : 147563.28813559323\n",
      "BOOKS_AND_REFERENCE : 9655197.28643216\n",
      "FAMILY : 5784094.900962083\n",
      "PERSONALIZATION : 7533233.402597402\n",
      "COMMUNICATION : 90935671.86908078\n",
      "TOOLS : 14988276.79842932\n",
      "ENTERTAINMENT : 19516734.69387755\n",
      "PARENTING : 542603.6206896552\n",
      "EVENTS : 253542.22222222222\n",
      "VIDEO_PLAYERS : 36599010.11764706\n",
      "FINANCE : 2511355.6790830945\n",
      "NEWS_AND_MAGAZINES : 27058831.263537906\n",
      "SOCIAL : 48184458.56849315\n",
      "PHOTOGRAPHY : 32321374.407051284\n",
      "PRODUCTIVITY : 35885137.50379747\n",
      "ART_AND_DESIGN : 2071851.6666666667\n"
     ]
    }
   ],
   "source": [
    "google_category = freq_table(google_free, 1)\n",
    "\n",
    "for category in google_category:\n",
    "    total = 0\n",
    "    len_category = 0\n",
    "    \n",
    "    for row in google_free[1:]:\n",
    "        category_app = row[1]\n",
    "        if category_app == category:\n",
    "            installs = row[5]\n",
    "            installs = installs.replace('+','')\n",
    "            installs = installs.replace(',','')\n",
    "            total += float(installs)\n",
    "            len_category += 1\n",
    "    avg_installs = total / len_category\n",
    "    \n",
    "    print(category, ':', avg_installs)"
   ]
  },
  {
   "cell_type": "markdown",
   "metadata": {},
   "source": [
    "The App Store dataset does not account for installs in its structure, so we'll use \"ratings_count_tot\" as the next best metric to estimate installations.\n",
    "\n",
    "It's surprising to see that Music is the front-runner for most reviewed genre in this dataset, with Social Networking and Weather as runners-up."
   ]
  },
  {
   "cell_type": "code",
   "execution_count": 25,
   "metadata": {
    "collapsed": false
   },
   "outputs": [
    {
     "name": "stdout",
     "output_type": "stream",
     "text": [
      "Travel : 20216.01785714286\n",
      "Weather : 47220.93548387097\n",
      "Education : 6266.333333333333\n",
      "Navigation : 25972.05\n",
      "Food & Drink : 20179.093023255813\n",
      "Social Networking : 32503.563380281692\n",
      "Entertainment : 10822.961077844311\n",
      "Finance : 13522.261904761905\n",
      "Book : 8498.333333333334\n",
      "Reference : 67447.9\n",
      "Medical : 459.75\n",
      "News : 15892.724137931034\n",
      "Utilities : 14010.100917431193\n",
      "Lifestyle : 8978.308510638299\n",
      "Shopping : 18746.677685950413\n",
      "Catalogs : 1779.5555555555557\n",
      "Music : 56482.02985074627\n",
      "Health & Fitness : 19952.315789473683\n",
      "Photo & Video : 27249.892215568863\n",
      "Sports : 20128.974683544304\n",
      "Productivity : 19053.887096774193\n",
      "Business : 6367.8\n",
      "Games : 18924.68896765618\n"
     ]
    }
   ],
   "source": [
    "test = freq_table(apple_free, 11)\n",
    "\n",
    "for genre in test:\n",
    "    total = 0\n",
    "    len_genre = 0\n",
    "    \n",
    "    for row in apple_free[1:]:\n",
    "        genre_app = row[11]\n",
    "        if genre_app == genre:\n",
    "            total += float(row[5])\n",
    "            len_genre += 1\n",
    "    print(genre, \":\",total/len_genre)"
   ]
  },
  {
   "cell_type": "markdown",
   "metadata": {
    "collapsed": true
   },
   "source": [
    "## Conclusion\n",
    "\n",
    "Judging by the trends we've identified in this project, while games would seem like a sure moneymaker, it would be hard to breakthrough in such a saturated market.\n",
    "\n",
    "It does appear that there is room to capitalize on the creation of an app that combines highly-rated genres like music, social networking, photography, and communication to deploy in a smaller genre category.\n",
    "\n",
    "In the case of one successful instance of this: TikTok (formerly Musical.ly), it could be said that a simple analysis of the market could have predicted its rise and/or creation."
   ]
  },
  {
   "cell_type": "code",
   "execution_count": null,
   "metadata": {
    "collapsed": true
   },
   "outputs": [],
   "source": []
  }
 ],
 "metadata": {
  "kernelspec": {
   "display_name": "Python 3",
   "language": "python",
   "name": "python3"
  },
  "language_info": {
   "codemirror_mode": {
    "name": "ipython",
    "version": 3
   },
   "file_extension": ".py",
   "mimetype": "text/x-python",
   "name": "python",
   "nbconvert_exporter": "python",
   "pygments_lexer": "ipython3",
   "version": "3.4.3"
  }
 },
 "nbformat": 4,
 "nbformat_minor": 2
}
